{
 "cells": [
  {
   "cell_type": "code",
   "execution_count": 1,
   "id": "eea7a344",
   "metadata": {},
   "outputs": [],
   "source": [
    "import os\n",
    "import numpy as np\n",
    "import pandas as pd\n",
    "import json\n",
    "import itertools\n",
    "import pickle\n",
    "import matplotlib.pyplot as plt\n",
    "import torch\n",
    "from sentence_transformers import SentenceTransformer, util"
   ]
  },
  {
   "cell_type": "markdown",
   "id": "6897974e",
   "metadata": {},
   "source": [
    "## Prepare data"
   ]
  },
  {
   "cell_type": "markdown",
   "id": "60aaef87",
   "metadata": {},
   "source": [
    "### Selecte data relevant to federal races"
   ]
  },
  {
   "cell_type": "code",
   "execution_count": 4,
   "id": "be1330fa",
   "metadata": {},
   "outputs": [],
   "source": [
    "source_path = '../../../../fb_2022'"
   ]
  },
  {
   "cell_type": "code",
   "execution_count": 5,
   "id": "2e549ff0",
   "metadata": {},
   "outputs": [
    {
     "name": "stderr",
     "output_type": "stream",
     "text": [
      "/tmp/ipykernel_13128/2930251296.py:1: DtypeWarning: Columns (4) have mixed types. Specify dtype option on import or set low_memory=False.\n",
      "  var = pd.read_csv(os.path.join(source_path, 'fb_2022_adid_var_sets_091224.csv.gz'))\n"
     ]
    }
   ],
   "source": [
    "var = pd.read_csv(os.path.join(source_path, 'fb_2022_adid_var_sets_091224.csv.gz'))"
   ]
  },
  {
   "cell_type": "code",
   "execution_count": 6,
   "id": "0aa2c465",
   "metadata": {
    "scrolled": true
   },
   "outputs": [
    {
     "data": {
      "text/plain": [
       "Index(['ad_id', 'page_id', 'ad_creation_time', 'ad_delivery_start_time',\n",
       "       'ad_delivery_stop_time', 'spend', 'impressions', 'region_distribution',\n",
       "       'demographic_distribution', 'publisher_platforms', 'potential_reach',\n",
       "       'from_pd_id', 'wmp_media_type', 'aws_face_vid', 'aws_face_img',\n",
       "       'sub_bucket', 'race_of_focus', 'race_of_focus_region_pct',\n",
       "       'ad_tone_constructed', 'ad_tone_mentionbased', 'goal_DONATE_prediction',\n",
       "       'goal_DONATE_predicted_prob', 'goal_CONTACT_prediction',\n",
       "       'goal_CONTACT_predicted_prob', 'goal_PURCHASE_prediction',\n",
       "       'goal_PURCHASE_predicted_prob', 'goal_GOTV_prediction',\n",
       "       'goal_GOTV_predicted_prob', 'goal_EVENT_prediction',\n",
       "       'goal_EVENT_predicted_prob', 'goal_POLL_prediction',\n",
       "       'goal_POLL_predicted_prob', 'goal_GATHERINFO_prediction',\n",
       "       'goal_GATHERINFO_predicted_prob', 'goal_LEARNMORE_prediction',\n",
       "       'goal_LEARNMORE_predicted_prob', 'goal_PRIMARY_PERSUADE_prediction',\n",
       "       'goal_PRIMARY_PERSUADE_predicted_prob', 'goal_highest_prob',\n",
       "       'party_all_clf_pdid', 'prob_dem', 'prob_other', 'prob_rep',\n",
       "       'party_all_clf_adid', 'party_all_clf_adid_agg', 'detected_entities',\n",
       "       'detected_entities_federal', 'attacklike1_bert_pred',\n",
       "       'attacklike1_bert_prob', 'attacklike2_bert_pred',\n",
       "       'attacklike2_bert_prob', 'attacklike3_bert_pred',\n",
       "       'attacklike_senti_pred', 'attacklike_senti_prob',\n",
       "       'ABSA_number_of_mentions', 'ABSA_detected_entities',\n",
       "       'ABSA_predicted_sentiment_agg', 'issue_field', 'issue_class',\n",
       "       'aws_face', 'aws_face_federal', 'combined_entities_federal',\n",
       "       'federal_verified', 'pd_id', 'party_all', 'federal_cd', 'federal_cdpty',\n",
       "       'wmp_spontype', 'wmp_office', 'set3', 'set3b', 'set4', 'set4b'],\n",
       "      dtype='object')"
      ]
     },
     "execution_count": 6,
     "metadata": {},
     "output_type": "execute_result"
    }
   ],
   "source": [
    "var.columns"
   ]
  },
  {
   "cell_type": "code",
   "execution_count": 7,
   "id": "c5cfa34a",
   "metadata": {},
   "outputs": [],
   "source": [
    "'''\n",
    "Filter for Set 3\n",
    "'''\n",
    "var = var[var.set3 == 1]"
   ]
  },
  {
   "cell_type": "code",
   "execution_count": 8,
   "id": "18d6da02",
   "metadata": {},
   "outputs": [
    {
     "data": {
      "text/plain": [
       "(123997, 73)"
      ]
     },
     "execution_count": 8,
     "metadata": {},
     "output_type": "execute_result"
    }
   ],
   "source": [
    "var.shape"
   ]
  },
  {
   "cell_type": "code",
   "execution_count": 9,
   "id": "9506317d",
   "metadata": {},
   "outputs": [
    {
     "data": {
      "text/plain": [
       "array(['3.1', '3.2.2.2', '3.2.2.1', '1'], dtype=object)"
      ]
     },
     "execution_count": 9,
     "metadata": {},
     "output_type": "execute_result"
    }
   ],
   "source": [
    "var[~var.race_of_focus.isin(['No race of focus', 'Downballot'])].sub_bucket.unique()"
   ]
  },
  {
   "cell_type": "code",
   "execution_count": 10,
   "id": "e579a31f",
   "metadata": {},
   "outputs": [],
   "source": [
    "'''\n",
    "Only house/senate races \n",
    "'''\n",
    "condition = (var.wmp_office.isin(['us senate', 'us house'])) | (~var.race_of_focus.isin(['No race of focus', 'Downballot']))"
   ]
  },
  {
   "cell_type": "code",
   "execution_count": 11,
   "id": "46bdf63d",
   "metadata": {},
   "outputs": [],
   "source": [
    "var = var[condition]"
   ]
  },
  {
   "cell_type": "code",
   "execution_count": 12,
   "id": "e08ed7d1",
   "metadata": {},
   "outputs": [
    {
     "data": {
      "text/plain": [
       "(96535, 73)"
      ]
     },
     "execution_count": 12,
     "metadata": {},
     "output_type": "execute_result"
    }
   ],
   "source": [
    "var.shape"
   ]
  },
  {
   "cell_type": "code",
   "execution_count": 13,
   "id": "d1ae4488",
   "metadata": {},
   "outputs": [
    {
     "data": {
      "text/plain": [
       "wmp_spontype\n",
       "campaign               54766\n",
       "coordinated              343\n",
       "down ballot                1\n",
       "government agency        358\n",
       "government official      847\n",
       "group                  28497\n",
       "party                   3109\n",
       "party national          3613\n",
       "dtype: int64"
      ]
     },
     "execution_count": 13,
     "metadata": {},
     "output_type": "execute_result"
    }
   ],
   "source": [
    "var.groupby(['wmp_spontype']).size()"
   ]
  },
  {
   "cell_type": "code",
   "execution_count": 14,
   "id": "d064472e",
   "metadata": {},
   "outputs": [],
   "source": [
    "'''\n",
    "Merge with text and cid mapping tables\n",
    "'''\n",
    "cid = pd.read_csv(os.path.join(source_path, 'cid_fb2022.csv'))\n",
    "text = pd.read_csv(os.path.join(source_path, 'fb_2022_adid_text.csv.gz'))"
   ]
  },
  {
   "cell_type": "code",
   "execution_count": 15,
   "id": "da01f781",
   "metadata": {},
   "outputs": [],
   "source": [
    "var = var.merge(text, how='left', on='ad_id')"
   ]
  },
  {
   "cell_type": "code",
   "execution_count": 16,
   "id": "858ee3cd",
   "metadata": {},
   "outputs": [],
   "source": [
    "var = var.merge(cid, how='left', on='ad_id')"
   ]
  },
  {
   "cell_type": "code",
   "execution_count": 17,
   "id": "f1de081b",
   "metadata": {},
   "outputs": [
    {
     "data": {
      "text/plain": [
       "(355, 94)"
      ]
     },
     "execution_count": 17,
     "metadata": {},
     "output_type": "execute_result"
    }
   ],
   "source": [
    "var[pd.isna(var.federal_cd)].shape"
   ]
  },
  {
   "cell_type": "code",
   "execution_count": 18,
   "id": "188ae955",
   "metadata": {},
   "outputs": [],
   "source": [
    "'''\n",
    "Drop clearly non-federal race spnosors\n",
    "'''\n",
    "var = var[var.wmp_spontype!= 'down ballot']"
   ]
  },
  {
   "cell_type": "markdown",
   "id": "28e7489a",
   "metadata": {},
   "source": [
    "### Aggregate data at sponsor-media level"
   ]
  },
  {
   "cell_type": "markdown",
   "id": "b33f4174",
   "metadata": {},
   "source": [
    "#### Federal candidates"
   ]
  },
  {
   "cell_type": "code",
   "execution_count": 19,
   "id": "06bccced",
   "metadata": {},
   "outputs": [],
   "source": [
    "var_cand = var[var.federal_cd==1]"
   ]
  },
  {
   "cell_type": "code",
   "execution_count": 20,
   "id": "bb028f62",
   "metadata": {},
   "outputs": [],
   "source": [
    "cols = ['pd_id', 'wmp_media_type', 'cid']"
   ]
  },
  {
   "cell_type": "code",
   "execution_count": 21,
   "id": "a5ecf09e",
   "metadata": {},
   "outputs": [],
   "source": [
    "# Aggregate by pdid AND media type\n",
    "cand_sponsor_agg = var_cand[cols].groupby(cols).first().reset_index().groupby(['pd_id', 'wmp_media_type']).agg(lambda x: ' '.join(x)).reset_index()"
   ]
  },
  {
   "cell_type": "code",
   "execution_count": 22,
   "id": "bb21226a",
   "metadata": {},
   "outputs": [
    {
     "data": {
      "text/html": [
       "<div>\n",
       "<style scoped>\n",
       "    .dataframe tbody tr th:only-of-type {\n",
       "        vertical-align: middle;\n",
       "    }\n",
       "\n",
       "    .dataframe tbody tr th {\n",
       "        vertical-align: top;\n",
       "    }\n",
       "\n",
       "    .dataframe thead th {\n",
       "        text-align: right;\n",
       "    }\n",
       "</style>\n",
       "<table border=\"1\" class=\"dataframe\">\n",
       "  <thead>\n",
       "    <tr style=\"text-align: right;\">\n",
       "      <th></th>\n",
       "      <th>pd_id</th>\n",
       "      <th>wmp_media_type</th>\n",
       "      <th>cid</th>\n",
       "    </tr>\n",
       "  </thead>\n",
       "  <tbody>\n",
       "    <tr>\n",
       "      <th>0</th>\n",
       "      <td>pd-1000253160054572-3</td>\n",
       "      <td>image</td>\n",
       "      <td>cid_106784 cid_108932 cid_108933 cid_85818 cid...</td>\n",
       "    </tr>\n",
       "    <tr>\n",
       "      <th>1</th>\n",
       "      <td>pd-1000253160054572-3</td>\n",
       "      <td>video</td>\n",
       "      <td>cid_108054 cid_108055 cid_85825</td>\n",
       "    </tr>\n",
       "  </tbody>\n",
       "</table>\n",
       "</div>"
      ],
      "text/plain": [
       "                   pd_id wmp_media_type  \\\n",
       "0  pd-1000253160054572-3          image   \n",
       "1  pd-1000253160054572-3          video   \n",
       "\n",
       "                                                 cid  \n",
       "0  cid_106784 cid_108932 cid_108933 cid_85818 cid...  \n",
       "1                    cid_108054 cid_108055 cid_85825  "
      ]
     },
     "execution_count": 22,
     "metadata": {},
     "output_type": "execute_result"
    }
   ],
   "source": [
    "cand_sponsor_agg.head(2)"
   ]
  },
  {
   "cell_type": "code",
   "execution_count": 23,
   "id": "1a134869",
   "metadata": {},
   "outputs": [],
   "source": [
    "cand_sponsor_agg['num_unique'] = cand_sponsor_agg.cid.apply(lambda x: len(x.split()))"
   ]
  },
  {
   "cell_type": "code",
   "execution_count": 24,
   "id": "b64cc523",
   "metadata": {},
   "outputs": [],
   "source": [
    "cand_sponsor_agg = cand_sponsor_agg[cand_sponsor_agg.num_unique > 1]"
   ]
  },
  {
   "cell_type": "code",
   "execution_count": 25,
   "id": "ba6628ed",
   "metadata": {
    "scrolled": true
   },
   "outputs": [
    {
     "data": {
      "text/plain": [
       "array(['campaign'], dtype=object)"
      ]
     },
     "execution_count": 25,
     "metadata": {},
     "output_type": "execute_result"
    }
   ],
   "source": [
    "var_cand.wmp_spontype.unique()"
   ]
  },
  {
   "cell_type": "markdown",
   "id": "22fc5d19",
   "metadata": {},
   "source": [
    "#### Non-campaign sponsors: Advertiser-media-race_of_focuse-level aggregation"
   ]
  },
  {
   "cell_type": "code",
   "execution_count": 26,
   "id": "d7c7a8dd",
   "metadata": {},
   "outputs": [
    {
     "data": {
      "text/plain": [
       "array(['government agency', 'group', nan, 'campaign',\n",
       "       'government official', 'party national', 'party', 'coordinated'],\n",
       "      dtype=object)"
      ]
     },
     "execution_count": 26,
     "metadata": {},
     "output_type": "execute_result"
    }
   ],
   "source": [
    "var[var.federal_cd == 0].wmp_spontype.unique()"
   ]
  },
  {
   "cell_type": "code",
   "execution_count": 27,
   "id": "241a63aa",
   "metadata": {},
   "outputs": [
    {
     "data": {
      "text/plain": [
       "array([nan, 'down ballot', 'us house', 'ballot measure',\n",
       "       'us senate - other cycle', 'us senate',\n",
       "       'us house - not in our 2022 FEC cd file',\n",
       "       'president - other cycle', 'us house - other cycle', 'governor',\n",
       "       'election outside US or in US comm/territory', 'group'],\n",
       "      dtype=object)"
      ]
     },
     "execution_count": 27,
     "metadata": {},
     "output_type": "execute_result"
    }
   ],
   "source": [
    "var[var.federal_cd == 0].wmp_office.unique()"
   ]
  },
  {
   "cell_type": "code",
   "execution_count": 28,
   "id": "bc302aa9",
   "metadata": {},
   "outputs": [],
   "source": [
    "'''\n",
    "filter irrelevant offices among non-campaign sponsors\n",
    "'''\n",
    "irrelevant_offices = ['us house - other cycle', 'us senate - other cycle', 'down ballot', \n",
    " 'president - other cycle', 'ballot measure', 'election outside US or in US comm/territory', 'governor']\n",
    "condition3 = (var.federal_cd == 0) & (~var.wmp_office.isin(irrelevant_offices))\n",
    "\n",
    "var_noncand = var[condition3]"
   ]
  },
  {
   "cell_type": "code",
   "execution_count": null,
   "id": "a8b60bd4",
   "metadata": {},
   "outputs": [],
   "source": [
    "# var_noncand[var.wmp_spontype == 'government agency'][['race_of_focus', 'advertiser_name', 'ad_type']]"
   ]
  },
  {
   "cell_type": "code",
   "execution_count": 29,
   "id": "e8faf6e0",
   "metadata": {},
   "outputs": [],
   "source": [
    "'''\n",
    "Remove those with no race of focus identified\n",
    "'''\n",
    "var_noncand = var_noncand[~pd.isna(var_noncand.race_of_focus)]\n",
    "var_noncand = var_noncand[var_noncand.race_of_focus != 'No race of focus']"
   ]
  },
  {
   "cell_type": "code",
   "execution_count": 30,
   "id": "cb5dcc00",
   "metadata": {},
   "outputs": [
    {
     "data": {
      "text/plain": [
       "(39415, 94)"
      ]
     },
     "execution_count": 30,
     "metadata": {},
     "output_type": "execute_result"
    }
   ],
   "source": [
    "var_noncand.shape"
   ]
  },
  {
   "cell_type": "code",
   "execution_count": 31,
   "id": "ed53f9e2",
   "metadata": {},
   "outputs": [],
   "source": [
    "'''\n",
    "Aggregate at sponsor-media-race level\n",
    "'''\n",
    "cols2 = ['pd_id', 'cid', 'race_of_focus', 'wmp_media_type']"
   ]
  },
  {
   "cell_type": "code",
   "execution_count": 32,
   "id": "1c63e6bd",
   "metadata": {},
   "outputs": [],
   "source": [
    "'''\n",
    "Agg by pdid AND media type AND race of focus\n",
    "'''\n",
    "noncand_sponsor_agg = var_noncand[cols2].groupby(['pd_id', 'cid', 'race_of_focus']).first().reset_index()\\\n",
    ".groupby(['pd_id', 'race_of_focus', 'wmp_media_type']).agg(lambda x: ' '.join(x)).reset_index()"
   ]
  },
  {
   "cell_type": "code",
   "execution_count": 33,
   "id": "8cdb5c70",
   "metadata": {},
   "outputs": [
    {
     "data": {
      "text/html": [
       "<div>\n",
       "<style scoped>\n",
       "    .dataframe tbody tr th:only-of-type {\n",
       "        vertical-align: middle;\n",
       "    }\n",
       "\n",
       "    .dataframe tbody tr th {\n",
       "        vertical-align: top;\n",
       "    }\n",
       "\n",
       "    .dataframe thead th {\n",
       "        text-align: right;\n",
       "    }\n",
       "</style>\n",
       "<table border=\"1\" class=\"dataframe\">\n",
       "  <thead>\n",
       "    <tr style=\"text-align: right;\">\n",
       "      <th></th>\n",
       "      <th>pd_id</th>\n",
       "      <th>race_of_focus</th>\n",
       "      <th>wmp_media_type</th>\n",
       "      <th>cid</th>\n",
       "    </tr>\n",
       "  </thead>\n",
       "  <tbody>\n",
       "    <tr>\n",
       "      <th>0</th>\n",
       "      <td>pd-100053898949-2</td>\n",
       "      <td>CA11</td>\n",
       "      <td>image</td>\n",
       "      <td>cid_127823 cid_66514</td>\n",
       "    </tr>\n",
       "    <tr>\n",
       "      <th>1</th>\n",
       "      <td>pd-100053898949-2</td>\n",
       "      <td>IN08</td>\n",
       "      <td>image</td>\n",
       "      <td>cid_130676</td>\n",
       "    </tr>\n",
       "  </tbody>\n",
       "</table>\n",
       "</div>"
      ],
      "text/plain": [
       "               pd_id race_of_focus wmp_media_type                   cid\n",
       "0  pd-100053898949-2          CA11          image  cid_127823 cid_66514\n",
       "1  pd-100053898949-2          IN08          image            cid_130676"
      ]
     },
     "execution_count": 33,
     "metadata": {},
     "output_type": "execute_result"
    }
   ],
   "source": [
    "noncand_sponsor_agg.head(2)"
   ]
  },
  {
   "cell_type": "code",
   "execution_count": 34,
   "id": "17e4c790",
   "metadata": {},
   "outputs": [],
   "source": [
    "noncand_sponsor_agg['num_unique'] = noncand_sponsor_agg.cid.apply(lambda x: len(x.split()))\n",
    "\n",
    "# filter for sponsors with at least a pair of unique creatives\n",
    "noncand_sponsor_agg = noncand_sponsor_agg[noncand_sponsor_agg.num_unique > 1]"
   ]
  },
  {
   "cell_type": "code",
   "execution_count": 35,
   "id": "a526dd8c",
   "metadata": {},
   "outputs": [
    {
     "data": {
      "text/plain": [
       "(3270, 5)"
      ]
     },
     "execution_count": 35,
     "metadata": {},
     "output_type": "execute_result"
    }
   ],
   "source": [
    "noncand_sponsor_agg.shape"
   ]
  },
  {
   "cell_type": "markdown",
   "id": "fdd22b16",
   "metadata": {},
   "source": [
    "### Import trained corpous embedding and compute average similarity"
   ]
  },
  {
   "cell_type": "code",
   "execution_count": 36,
   "id": "bddcd669",
   "metadata": {},
   "outputs": [],
   "source": [
    "corpus_embeddings = torch.load('../input_data/corpus_embedding_fb2022_uni.pt', map_location=torch.device('cpu'))"
   ]
  },
  {
   "cell_type": "code",
   "execution_count": 37,
   "id": "aff45606",
   "metadata": {},
   "outputs": [
    {
     "data": {
      "text/plain": [
       "torch.Size([153952, 384])"
      ]
     },
     "execution_count": 37,
     "metadata": {},
     "output_type": "execute_result"
    }
   ],
   "source": [
    "corpus_embeddings.shape\n",
    "# corpus embedding index aligned with ascending cid index starting from 0 "
   ]
  },
  {
   "cell_type": "code",
   "execution_count": 38,
   "id": "671f3af5",
   "metadata": {},
   "outputs": [],
   "source": [
    "def compute_avg_similarity(cid_lst):\n",
    "    cid_lst = cid_lst.split()\n",
    "    \n",
    "    pairs = list(itertools.combinations(cid_lst, 2))\n",
    "    if pairs:\n",
    "        scores = []\n",
    "        for pair in pairs: \n",
    "            cid1, cid2 = pair\n",
    "            idx1 = int(cid1.lstrip('cid_'))\n",
    "            idx2 = int(cid2.lstrip('cid_'))\n",
    "            \n",
    "            score = util.cos_sim(corpus_embeddings[idx1], corpus_embeddings[idx2])[0][0].numpy()\n",
    "            scores.append(score)\n",
    "        return np.array(scores).mean(), np.array(scores).std()\n",
    "    return None"
   ]
  },
  {
   "cell_type": "markdown",
   "id": "e162b0e9",
   "metadata": {},
   "source": [
    "### Federal candidates: by advertiser and media type¶"
   ]
  },
  {
   "cell_type": "code",
   "execution_count": 39,
   "id": "2fc53f85",
   "metadata": {},
   "outputs": [],
   "source": [
    "cand_sponsor_agg.loc[:, ['avg', 'std']] = cand_sponsor_agg.cid.apply(lambda x: pd.Series(compute_avg_similarity(x), index=['avg', 'std'], dtype=\"float\"))"
   ]
  },
  {
   "cell_type": "code",
   "execution_count": 40,
   "id": "abeba856",
   "metadata": {},
   "outputs": [
    {
     "data": {
      "text/html": [
       "<div>\n",
       "<style scoped>\n",
       "    .dataframe tbody tr th:only-of-type {\n",
       "        vertical-align: middle;\n",
       "    }\n",
       "\n",
       "    .dataframe tbody tr th {\n",
       "        vertical-align: top;\n",
       "    }\n",
       "\n",
       "    .dataframe thead th {\n",
       "        text-align: right;\n",
       "    }\n",
       "</style>\n",
       "<table border=\"1\" class=\"dataframe\">\n",
       "  <thead>\n",
       "    <tr style=\"text-align: right;\">\n",
       "      <th></th>\n",
       "      <th>pd_id</th>\n",
       "      <th>wmp_media_type</th>\n",
       "      <th>cid</th>\n",
       "      <th>num_unique</th>\n",
       "      <th>avg</th>\n",
       "      <th>std</th>\n",
       "    </tr>\n",
       "  </thead>\n",
       "  <tbody>\n",
       "    <tr>\n",
       "      <th>0</th>\n",
       "      <td>pd-1000253160054572-3</td>\n",
       "      <td>image</td>\n",
       "      <td>cid_106784 cid_108932 cid_108933 cid_85818 cid...</td>\n",
       "      <td>7</td>\n",
       "      <td>0.679787</td>\n",
       "      <td>0.221322</td>\n",
       "    </tr>\n",
       "    <tr>\n",
       "      <th>1</th>\n",
       "      <td>pd-1000253160054572-3</td>\n",
       "      <td>video</td>\n",
       "      <td>cid_108054 cid_108055 cid_85825</td>\n",
       "      <td>3</td>\n",
       "      <td>0.939069</td>\n",
       "      <td>0.043084</td>\n",
       "    </tr>\n",
       "    <tr>\n",
       "      <th>2</th>\n",
       "      <td>pd-100112769260413-1</td>\n",
       "      <td>image</td>\n",
       "      <td>cid_118994 cid_29989 cid_61946 cid_67361 cid_7...</td>\n",
       "      <td>7</td>\n",
       "      <td>0.563807</td>\n",
       "      <td>0.086565</td>\n",
       "    </tr>\n",
       "    <tr>\n",
       "      <th>3</th>\n",
       "      <td>pd-100112769260413-1</td>\n",
       "      <td>video</td>\n",
       "      <td>cid_122019 cid_81062</td>\n",
       "      <td>2</td>\n",
       "      <td>0.584833</td>\n",
       "      <td>0.000000</td>\n",
       "    </tr>\n",
       "  </tbody>\n",
       "</table>\n",
       "</div>"
      ],
      "text/plain": [
       "                   pd_id wmp_media_type  \\\n",
       "0  pd-1000253160054572-3          image   \n",
       "1  pd-1000253160054572-3          video   \n",
       "2   pd-100112769260413-1          image   \n",
       "3   pd-100112769260413-1          video   \n",
       "\n",
       "                                                 cid  num_unique       avg  \\\n",
       "0  cid_106784 cid_108932 cid_108933 cid_85818 cid...           7  0.679787   \n",
       "1                    cid_108054 cid_108055 cid_85825           3  0.939069   \n",
       "2  cid_118994 cid_29989 cid_61946 cid_67361 cid_7...           7  0.563807   \n",
       "3                               cid_122019 cid_81062           2  0.584833   \n",
       "\n",
       "        std  \n",
       "0  0.221322  \n",
       "1  0.043084  \n",
       "2  0.086565  \n",
       "3  0.000000  "
      ]
     },
     "execution_count": 40,
     "metadata": {},
     "output_type": "execute_result"
    }
   ],
   "source": [
    "cand_sponsor_agg.head(4)"
   ]
  },
  {
   "cell_type": "code",
   "execution_count": 41,
   "id": "3e3d7a95",
   "metadata": {},
   "outputs": [],
   "source": [
    "'''\n",
    "Candidates only\n",
    "'''\n",
    "\n",
    "cand_sponsor_agg.to_csv('../output_data/fb_set3_cand_pdid_media_average_pairwise_similarity.csv', index=False)"
   ]
  },
  {
   "cell_type": "markdown",
   "id": "9bf74c10",
   "metadata": {},
   "source": [
    "### non-campaign candidate sponsors: by sponsor - media - race of focus\n"
   ]
  },
  {
   "cell_type": "code",
   "execution_count": 42,
   "id": "81e19b00",
   "metadata": {},
   "outputs": [],
   "source": [
    "noncand_sponsor_agg.loc[:, ['avg', 'std']] = noncand_sponsor_agg.cid.apply(lambda x: pd.Series(compute_avg_similarity(x), index=['avg', 'std'], dtype=\"float\"))"
   ]
  },
  {
   "cell_type": "code",
   "execution_count": 43,
   "id": "03e3fa50",
   "metadata": {},
   "outputs": [],
   "source": [
    "'''\n",
    "Got the final avg text similarity of noncandidates grouped by race of focus average pairwise similarity\n",
    "'''\n",
    "noncand_sponsor_agg.to_csv('../output_data/fb_set3_noncandidate_pdid_racefocus_media_average_pairwise_similarity.csv', index=False)"
   ]
  }
 ],
 "metadata": {
  "kernelspec": {
   "display_name": "Python 3 (ipykernel)",
   "language": "python",
   "name": "python3"
  },
  "language_info": {
   "codemirror_mode": {
    "name": "ipython",
    "version": 3
   },
   "file_extension": ".py",
   "mimetype": "text/x-python",
   "name": "python",
   "nbconvert_exporter": "python",
   "pygments_lexer": "ipython3",
   "version": "3.11.4"
  }
 },
 "nbformat": 4,
 "nbformat_minor": 5
}
